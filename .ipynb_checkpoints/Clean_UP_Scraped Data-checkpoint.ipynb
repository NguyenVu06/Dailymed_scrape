{
 "cells": [
  {
   "cell_type": "code",
   "execution_count": 2,
   "metadata": {},
   "outputs": [],
   "source": [
    "import os\n",
    "import pandas as pd\n",
    "import numpy as np\n"
   ]
  },
  {
   "cell_type": "code",
   "execution_count": 4,
   "metadata": {},
   "outputs": [],
   "source": [
    "filist = os.listdir(os.getcwd())"
   ]
  },
  {
   "cell_type": "code",
   "execution_count": 5,
   "metadata": {},
   "outputs": [
    {
     "data": {
      "text/plain": [
       "['.ipynb_checkpoints',\n",
       " 'chromedriver.exe',\n",
       " 'DailyMedScrape-31Mar21.ipynb',\n",
       " 'DailyMedScrape-getTable.ipynb',\n",
       " 'DailyMedScrape.ipynb',\n",
       " 'debug.log',\n",
       " 'Result_Cistra.csv',\n",
       " 'Result_Midazolam.csv',\n",
       " 'Result_Ondansetron .csv',\n",
       " 'Result_Ondansetron2 .csv',\n",
       " 'Result_prof.csv',\n",
       " 'scrap.py',\n",
       " 'Untitled.ipynb']"
      ]
     },
     "execution_count": 5,
     "metadata": {},
     "output_type": "execute_result"
    }
   ],
   "source": [
    "filist"
   ]
  },
  {
   "cell_type": "code",
   "execution_count": 13,
   "metadata": {},
   "outputs": [],
   "source": [
    "df = pd.read_csv('Result_Cistra.csv', header=None)"
   ]
  },
  {
   "cell_type": "code",
   "execution_count": 14,
   "metadata": {},
   "outputs": [],
   "source": [
    "\n",
    "df.columns= [\"type\", \"route\", \"API\", \"Concentration\", \"Inactive_1\", \"Inactive_2\", \"Inactive_3\", \"DESC\"]"
   ]
  },
  {
   "cell_type": "code",
   "execution_count": 15,
   "metadata": {},
   "outputs": [],
   "source": [
    "df[\"DESC\"] = df[\"DESC\"].str.upper()"
   ]
  },
  {
   "cell_type": "code",
   "execution_count": 16,
   "metadata": {},
   "outputs": [
    {
     "data": {
      "text/html": [
       "<div>\n",
       "<style scoped>\n",
       "    .dataframe tbody tr th:only-of-type {\n",
       "        vertical-align: middle;\n",
       "    }\n",
       "\n",
       "    .dataframe tbody tr th {\n",
       "        vertical-align: top;\n",
       "    }\n",
       "\n",
       "    .dataframe thead th {\n",
       "        text-align: right;\n",
       "    }\n",
       "</style>\n",
       "<table border=\"1\" class=\"dataframe\">\n",
       "  <thead>\n",
       "    <tr style=\"text-align: right;\">\n",
       "      <th></th>\n",
       "      <th>type</th>\n",
       "      <th>route</th>\n",
       "      <th>API</th>\n",
       "      <th>Concentration</th>\n",
       "      <th>Inactive_1</th>\n",
       "      <th>Inactive_2</th>\n",
       "      <th>Inactive_3</th>\n",
       "      <th>DESC</th>\n",
       "    </tr>\n",
       "  </thead>\n",
       "  <tbody>\n",
       "    <tr>\n",
       "      <th>0</th>\n",
       "      <td>HUMAN PRESCRIPTION DRUG</td>\n",
       "      <td>INTRAVENOUS</td>\n",
       "      <td>CISATRACURIUM BESYLATE (UNII: 80YS8O1MBS) (CIS...</td>\n",
       "      <td>2 mg  in 1 mL</td>\n",
       "      <td>BENZENESULFONIC ACID (UNII: 685928Z18A)</td>\n",
       "      <td>NaN</td>\n",
       "      <td>NaN</td>\n",
       "      <td>10 IN 1 CARTON;5 ML IN 1 VIAL; TYPE 0: NOT A C...</td>\n",
       "    </tr>\n",
       "    <tr>\n",
       "      <th>1</th>\n",
       "      <td>HUMAN PRESCRIPTION DRUG</td>\n",
       "      <td>INTRAVENOUS</td>\n",
       "      <td>CISATRACURIUM BESYLATE (UNII: 80YS8O1MBS) (CIS...</td>\n",
       "      <td>2 mg  in 1 mL</td>\n",
       "      <td>BENZYL ALCOHOL (UNII: LKG8494WBH)</td>\n",
       "      <td>BENZENESULFONIC ACID (UNII: 685928Z18A)</td>\n",
       "      <td>NaN</td>\n",
       "      <td>10 IN 1 CARTON;10 ML IN 1 VIAL; TYPE 0: NOT A ...</td>\n",
       "    </tr>\n",
       "    <tr>\n",
       "      <th>2</th>\n",
       "      <td>HUMAN PRESCRIPTION DRUG</td>\n",
       "      <td>INTRAVENOUS</td>\n",
       "      <td>CISATRACURIUM BESYLATE (UNII: 80YS8O1MBS) (CIS...</td>\n",
       "      <td>10 mg  in 1 mL</td>\n",
       "      <td>BENZENESULFONIC ACID (UNII: 685928Z18A)</td>\n",
       "      <td>NaN</td>\n",
       "      <td>NaN</td>\n",
       "      <td>10 IN 1 CARTON;20 ML IN 1 VIAL; TYPE 0: NOT A ...</td>\n",
       "    </tr>\n",
       "    <tr>\n",
       "      <th>3</th>\n",
       "      <td>HUMAN PRESCRIPTION DRUG</td>\n",
       "      <td>INTRAVENOUS</td>\n",
       "      <td>CISATRACURIUM BESYLATE (UNII: 80YS8O1MBS) (CIS...</td>\n",
       "      <td>20 mg  in 10 mL</td>\n",
       "      <td>BENZYL ALCOHOL (UNII: LKG8494WBH)</td>\n",
       "      <td>BENZENESULFONIC ACID (UNII: 685928Z18A)</td>\n",
       "      <td>WATER (UNII: 059QF0KO0R)</td>\n",
       "      <td>10 IN 1 CARTON;10 ML IN 1 VIAL, MULTI-DOSE; TY...</td>\n",
       "    </tr>\n",
       "    <tr>\n",
       "      <th>4</th>\n",
       "      <td>HUMAN PRESCRIPTION DRUG</td>\n",
       "      <td>INTRAVENOUS</td>\n",
       "      <td>CISATRACURIUM BESYLATE (UNII: 80YS8O1MBS) (CIS...</td>\n",
       "      <td>2 mg  in 1 mL</td>\n",
       "      <td>BENZENESULFONIC ACID (UNII: 685928Z18A)</td>\n",
       "      <td>BENZYL ALCOHOL (UNII: LKG8494WBH)</td>\n",
       "      <td>WATER (UNII: 059QF0KO0R)</td>\n",
       "      <td>10 IN 1 CARTON;1 IN 1 CARTON;10 ML IN 1 VIAL, ...</td>\n",
       "    </tr>\n",
       "  </tbody>\n",
       "</table>\n",
       "</div>"
      ],
      "text/plain": [
       "                      type        route  \\\n",
       "0  HUMAN PRESCRIPTION DRUG  INTRAVENOUS   \n",
       "1  HUMAN PRESCRIPTION DRUG  INTRAVENOUS   \n",
       "2  HUMAN PRESCRIPTION DRUG  INTRAVENOUS   \n",
       "3  HUMAN PRESCRIPTION DRUG  INTRAVENOUS   \n",
       "4  HUMAN PRESCRIPTION DRUG  INTRAVENOUS   \n",
       "\n",
       "                                                 API    Concentration  \\\n",
       "0  CISATRACURIUM BESYLATE (UNII: 80YS8O1MBS) (CIS...    2 mg  in 1 mL   \n",
       "1  CISATRACURIUM BESYLATE (UNII: 80YS8O1MBS) (CIS...    2 mg  in 1 mL   \n",
       "2  CISATRACURIUM BESYLATE (UNII: 80YS8O1MBS) (CIS...   10 mg  in 1 mL   \n",
       "3  CISATRACURIUM BESYLATE (UNII: 80YS8O1MBS) (CIS...  20 mg  in 10 mL   \n",
       "4  CISATRACURIUM BESYLATE (UNII: 80YS8O1MBS) (CIS...    2 mg  in 1 mL   \n",
       "\n",
       "                                Inactive_1  \\\n",
       "0  BENZENESULFONIC ACID (UNII: 685928Z18A)   \n",
       "1        BENZYL ALCOHOL (UNII: LKG8494WBH)   \n",
       "2  BENZENESULFONIC ACID (UNII: 685928Z18A)   \n",
       "3        BENZYL ALCOHOL (UNII: LKG8494WBH)   \n",
       "4  BENZENESULFONIC ACID (UNII: 685928Z18A)   \n",
       "\n",
       "                                Inactive_2                Inactive_3  \\\n",
       "0                                      NaN                       NaN   \n",
       "1  BENZENESULFONIC ACID (UNII: 685928Z18A)                       NaN   \n",
       "2                                      NaN                       NaN   \n",
       "3  BENZENESULFONIC ACID (UNII: 685928Z18A)  WATER (UNII: 059QF0KO0R)   \n",
       "4        BENZYL ALCOHOL (UNII: LKG8494WBH)  WATER (UNII: 059QF0KO0R)   \n",
       "\n",
       "                                                DESC  \n",
       "0  10 IN 1 CARTON;5 ML IN 1 VIAL; TYPE 0: NOT A C...  \n",
       "1  10 IN 1 CARTON;10 ML IN 1 VIAL; TYPE 0: NOT A ...  \n",
       "2  10 IN 1 CARTON;20 ML IN 1 VIAL; TYPE 0: NOT A ...  \n",
       "3  10 IN 1 CARTON;10 ML IN 1 VIAL, MULTI-DOSE; TY...  \n",
       "4  10 IN 1 CARTON;1 IN 1 CARTON;10 ML IN 1 VIAL, ...  "
      ]
     },
     "execution_count": 16,
     "metadata": {},
     "output_type": "execute_result"
    }
   ],
   "source": [
    "df.head()"
   ]
  },
  {
   "cell_type": "code",
   "execution_count": null,
   "metadata": {},
   "outputs": [],
   "source": []
  },
  {
   "cell_type": "code",
   "execution_count": null,
   "metadata": {},
   "outputs": [],
   "source": [
    "df[\"Dosing\"] = df[\"DESC\"].str.extract(r\"\")"
   ]
  }
 ],
 "metadata": {
  "kernelspec": {
   "display_name": "Python 3",
   "language": "python",
   "name": "python3"
  },
  "language_info": {
   "codemirror_mode": {
    "name": "ipython",
    "version": 3
   },
   "file_extension": ".py",
   "mimetype": "text/x-python",
   "name": "python",
   "nbconvert_exporter": "python",
   "pygments_lexer": "ipython3",
   "version": "3.8.5"
  }
 },
 "nbformat": 4,
 "nbformat_minor": 4
}
