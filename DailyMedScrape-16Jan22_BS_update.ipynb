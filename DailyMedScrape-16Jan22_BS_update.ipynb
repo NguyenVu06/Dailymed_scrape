{
 "cells": [
  {
   "cell_type": "markdown",
   "metadata": {},
   "source": [
    "# update Jan 16th, 2022:\n",
    "* Switch from using test chromedriver to webscraping for speed"
   ]
  },
  {
   "cell_type": "code",
   "execution_count": 200,
   "metadata": {},
   "outputs": [],
   "source": [
    "import os\n",
    "import sys\n",
    "input_dir = os.getcwd()\n",
    "# output_file = os.path.join(input_dir+ '\\chromedriver.exe')\n",
    "# print( output_file)/\n",
    "\n",
    "import re\n",
    "from bs4 import BeautifulSoup\n",
    "import requests\n",
    "\n",
    "import pandas as pd"
   ]
  },
  {
   "cell_type": "code",
   "execution_count": 201,
   "metadata": {},
   "outputs": [],
   "source": [
    "#1. Cis, 2. Midaz, 3. Norepinephrin, 4. Dexmedotomidine, 5. Fentanyl, 6. Propofol\n",
    "drugs = ['cisatracurium', 'midazolam', 'NOREPINEPHRINE','Dexmedetomidine', 'Fentanyl', 'propofol']"
   ]
  },
  {
   "cell_type": "code",
   "execution_count": 202,
   "metadata": {},
   "outputs": [],
   "source": [
    "#define search root and link roots\n",
    "root_url = \"https://dailymed.nlm.nih.gov/dailymed/search.cfm?labeltype=all&query={}&pagesize=500&page=1\"\n",
    "link_root = \"https://dailymed.nlm.nih.gov\"\n"
   ]
  },
  {
   "cell_type": "code",
   "execution_count": 203,
   "metadata": {},
   "outputs": [],
   "source": [
    "drugs_dict = {}\n",
    "for d in drugs:\n",
    "    r = requests.get(root_url.format(d.lower())) #connect to URL\n",
    "    soup = BeautifulSoup(r.content, \"html.parser\") #parse HTML to BeautifulSoup object\n",
    "    drugslinks = soup.find_all(\"a\", {\"class\": \"drug-info-link\"}) #find all links with class \"drug-info-link\" \n",
    "    links = [link_root + link.get(\"href\") for link in drugslinks] #get the href attribute of each link\n",
    "    drugs_dict[d.upper()] = links\n"
   ]
  },
  {
   "cell_type": "code",
   "execution_count": 204,
   "metadata": {},
   "outputs": [
    {
     "data": {
      "text/plain": [
       "dict_keys(['CISATRACURIUM', 'MIDAZOLAM', 'NOREPINEPHRINE', 'DEXMEDETOMIDINE', 'FENTANYL', 'PROPOFOL'])"
      ]
     },
     "execution_count": 204,
     "metadata": {},
     "output_type": "execute_result"
    }
   ],
   "source": [
    "drugs_dict.keys()"
   ]
  },
  {
   "cell_type": "code",
   "execution_count": 205,
   "metadata": {},
   "outputs": [
    {
     "name": "stdout",
     "output_type": "stream",
     "text": [
      "CISATRACURIUM 19  pages found\n",
      "MIDAZOLAM 72  pages found\n",
      "NOREPINEPHRINE 200  pages found\n",
      "DEXMEDETOMIDINE 50  pages found\n",
      "FENTANYL 71  pages found\n",
      "PROPOFOL 30  pages found\n"
     ]
    }
   ],
   "source": [
    "#Count up the number of pages for each drug\n",
    "for k, v in drugs_dict.items():\n",
    "    print(k, len(v), \" pages found\")"
   ]
  },
  {
   "cell_type": "code",
   "execution_count": 121,
   "metadata": {},
   "outputs": [],
   "source": [
    "# Test parsing of a single link to obtain inactive ingredients (excipients)\n",
    "r_indi = requests.get(links[1])\n",
    "soup_indi = BeautifulSoup(r_indi.content, \"html.parser\")\n",
    "# x = soup_indi.find_all(\"table\",{\"class\":\"formTablePetite\"}) # Can be improved upon\n",
    "x = soup_indi.find(string=\"Inactive Ingredients\").find_parent(\"table\") #find the table with the string \"Inactive Ingredients\" as caption and its parent\n",
    "inactives = x.find_all(\"td\", {\"class\":\"formItem\"})\n",
    "excipients_names = [inactives[i].text.strip() for i in range(0,len(inactives),2)]\n",
    "excipients_conc = [inactives[i].string.replace(\"\\xa0\",\"\") for i in range(1,len(inactives),2)]\n",
    "excipient_dict = dict(zip(excipients_names, excipients_conc))\n",
    "\n"
   ]
  },
  {
   "cell_type": "markdown",
   "metadata": {},
   "source": [
    "## Get excipients Info"
   ]
  },
  {
   "cell_type": "code",
   "execution_count": 206,
   "metadata": {},
   "outputs": [],
   "source": [
    "# look at individual links:\n",
    "def get_inactives(urls_list):\n",
    "    empty_list = []\n",
    "\n",
    "    for l in urls_list:\n",
    "        r_indi = requests.get(l)\n",
    "        soup_indi = BeautifulSoup(r_indi.content, \"html.parser\")\n",
    "        if soup_indi.find(\"li\", {\"class\": \"human\"}) is not None: #check if human drugs\n",
    "            try:\n",
    "                x = soup_indi.find(string=\"Inactive Ingredients\").find_parent(\"table\") #find the table with the string \"Inactive Ingredients\" as caption and its parent\n",
    "                \n",
    "                inactives = x.find_all(\"td\", {\"class\":\"formItem\"})\n",
    "                excipients_names = [inactives[i].text.strip().upper() for i in range(0,len(inactives),2) if inactives[i].text.strip() != \"\"]\n",
    "                excipients_conc = [inactives[i].string.replace(\"\\xa0\",\"\") for i in range(1,len(inactives),2) if inactives[i].string is not None]\n",
    "                excipient_dict = dict(zip(excipients_names, excipients_conc))\n",
    "\n",
    "                empty_list.append(excipient_dict)\n",
    "            except AttributeError:\n",
    "                pass\n",
    "\n",
    "        else:\n",
    "            continue\n",
    "\n",
    "    return empty_list\n",
    "\n"
   ]
  },
  {
   "cell_type": "code",
   "execution_count": 207,
   "metadata": {},
   "outputs": [],
   "source": [
    "# Create a output file with the excipients for each drug\n",
    "output_dict = {}\n",
    "for k, v in drugs_dict.items():\n",
    "    output_dict[k] = get_inactives(v)\n"
   ]
  },
  {
   "cell_type": "code",
   "execution_count": 208,
   "metadata": {},
   "outputs": [
    {
     "name": "stdout",
     "output_type": "stream",
     "text": [
      "CISATRACURIUM 19\n",
      "MIDAZOLAM 69\n",
      "NOREPINEPHRINE 199\n",
      "DEXMEDETOMIDINE 45\n",
      "FENTANYL 67\n",
      "PROPOFOL 28\n"
     ]
    }
   ],
   "source": [
    "# inspect result output:\n",
    "for k, v in output_dict.items():\n",
    "    print(k, len(v))"
   ]
  },
  {
   "cell_type": "code",
   "execution_count": 209,
   "metadata": {},
   "outputs": [],
   "source": [
    "with open(\"excipients_dict.txt\", \"w\") as f:\n",
    "    for k, v in output_dict.items():\n",
    "        f.write(k + \": \" + str(v) + \"\\n\")"
   ]
  },
  {
   "cell_type": "code",
   "execution_count": 210,
   "metadata": {},
   "outputs": [],
   "source": [
    "tes_list = []\n",
    "for i in output_dict['PROPOFOL']:\n",
    "    tes_list = list(set(tes_list + list(i.keys())))"
   ]
  },
  {
   "cell_type": "code",
   "execution_count": 211,
   "metadata": {},
   "outputs": [],
   "source": [
    "# get unique excipients for each drug\n",
    "drugs_dict_unique_excipients = {}\n",
    "\n",
    "for k, v in output_dict.items():\n",
    "    uni_ls = []\n",
    "    for i in v:\n",
    "        uni_ls = list(set(uni_ls + list(i.keys())))\n",
    "    \n",
    "    unii ={u.split(\" (UNII:\")[1].replace(\")\",\"\").strip() : u.split(\" (UNII:\")[0] for u in uni_ls}\n",
    "\n",
    "    drugs_dict_unique_excipients[k] = unii\n"
   ]
  },
  {
   "cell_type": "code",
   "execution_count": 212,
   "metadata": {},
   "outputs": [],
   "source": [
    "# Write out look up table for excipients with its UNII\n",
    "with open(\"excipients_lookups.txt\", \"w\") as f:\n",
    "    for k, v in drugs_dict_unique_excipients.items():\n",
    "        f.write(k + \": \" + str(v) + \"\\n\")"
   ]
  },
  {
   "cell_type": "code",
   "execution_count": 213,
   "metadata": {},
   "outputs": [],
   "source": [
    "# build summary table\n",
    "drug_name = []\n",
    "drug_excipients = []\n",
    "drug_exp_conc = []\n",
    "drug_configuration = []\n",
    "for k, v in output_dict.items():\n",
    "    config_idx = 0\n",
    "    for d in v:\n",
    "        drug_excipients = drug_excipients + list(d.keys())\n",
    "        drug_exp_conc = drug_exp_conc + list(d.values())\n",
    "        drug_name = drug_name + ([k]*len(list(d.keys())))\n",
    "        drug_configuration = drug_configuration + ([config_idx]*len(list(d.keys())))\n",
    "        config_idx += 1\n",
    "\n",
    "\n",
    "# make data table from 4 lists\n",
    "df = pd.DataFrame({'drug_name': drug_name, 'drug_excipients': drug_excipients, 'drug_exp_conc': drug_exp_conc, 'drug_configuration': drug_configuration})\n",
    "\n",
    "# create column to store the UNII and get unique excipients\n",
    "df['drug_excipients_unii'] = df['drug_excipients'].apply(lambda x: x.split(\" (UNII:\")[1].replace(\")\",\"\").strip())\n",
    "df['excipient_name_normalize'] = df.apply(lambda x: drugs_dict_unique_excipients[x['drug_name']][x['drug_excipients_unii']], axis=1)"
   ]
  },
  {
   "cell_type": "code",
   "execution_count": 214,
   "metadata": {},
   "outputs": [],
   "source": [
    "#export pandas dataframe to csv\n",
    "df.to_csv('excipients_table_17Jan22.csv', index=False)"
   ]
  },
  {
   "cell_type": "code",
   "execution_count": 215,
   "metadata": {},
   "outputs": [
    {
     "data": {
      "text/html": [
       "<div>\n",
       "<style scoped>\n",
       "    .dataframe tbody tr th:only-of-type {\n",
       "        vertical-align: middle;\n",
       "    }\n",
       "\n",
       "    .dataframe tbody tr th {\n",
       "        vertical-align: top;\n",
       "    }\n",
       "\n",
       "    .dataframe thead th {\n",
       "        text-align: right;\n",
       "    }\n",
       "</style>\n",
       "<table border=\"1\" class=\"dataframe\">\n",
       "  <thead>\n",
       "    <tr style=\"text-align: right;\">\n",
       "      <th></th>\n",
       "      <th>drug_name</th>\n",
       "      <th>drug_excipients</th>\n",
       "      <th>drug_exp_conc</th>\n",
       "      <th>drug_configuration</th>\n",
       "      <th>drug_excipients_unii</th>\n",
       "      <th>excipient_name_normalize</th>\n",
       "    </tr>\n",
       "  </thead>\n",
       "  <tbody>\n",
       "    <tr>\n",
       "      <th>0</th>\n",
       "      <td>CISATRACURIUM</td>\n",
       "      <td>BENZENESULFONIC ACID (UNII: 685928Z18A)</td>\n",
       "      <td></td>\n",
       "      <td>0</td>\n",
       "      <td>685928Z18A</td>\n",
       "      <td>BENZENESULFONIC ACID</td>\n",
       "    </tr>\n",
       "    <tr>\n",
       "      <th>1</th>\n",
       "      <td>CISATRACURIUM</td>\n",
       "      <td>WATER (UNII: 059QF0KO0R)</td>\n",
       "      <td></td>\n",
       "      <td>0</td>\n",
       "      <td>059QF0KO0R</td>\n",
       "      <td>WATER</td>\n",
       "    </tr>\n",
       "    <tr>\n",
       "      <th>2</th>\n",
       "      <td>CISATRACURIUM</td>\n",
       "      <td>BENZYL ALCOHOL (UNII: LKG8494WBH)</td>\n",
       "      <td></td>\n",
       "      <td>1</td>\n",
       "      <td>LKG8494WBH</td>\n",
       "      <td>BENZYL ALCOHOL</td>\n",
       "    </tr>\n",
       "    <tr>\n",
       "      <th>3</th>\n",
       "      <td>CISATRACURIUM</td>\n",
       "      <td>BENZENESULFONIC ACID (UNII: 685928Z18A)</td>\n",
       "      <td></td>\n",
       "      <td>1</td>\n",
       "      <td>685928Z18A</td>\n",
       "      <td>BENZENESULFONIC ACID</td>\n",
       "    </tr>\n",
       "    <tr>\n",
       "      <th>4</th>\n",
       "      <td>CISATRACURIUM</td>\n",
       "      <td>WATER (UNII: 059QF0KO0R)</td>\n",
       "      <td></td>\n",
       "      <td>1</td>\n",
       "      <td>059QF0KO0R</td>\n",
       "      <td>WATER</td>\n",
       "    </tr>\n",
       "  </tbody>\n",
       "</table>\n",
       "</div>"
      ],
      "text/plain": [
       "       drug_name                          drug_excipients drug_exp_conc  \\\n",
       "0  CISATRACURIUM  BENZENESULFONIC ACID (UNII: 685928Z18A)                 \n",
       "1  CISATRACURIUM                 WATER (UNII: 059QF0KO0R)                 \n",
       "2  CISATRACURIUM        BENZYL ALCOHOL (UNII: LKG8494WBH)                 \n",
       "3  CISATRACURIUM  BENZENESULFONIC ACID (UNII: 685928Z18A)                 \n",
       "4  CISATRACURIUM                 WATER (UNII: 059QF0KO0R)                 \n",
       "\n",
       "   drug_configuration drug_excipients_unii excipient_name_normalize  \n",
       "0                   0           685928Z18A     BENZENESULFONIC ACID  \n",
       "1                   0           059QF0KO0R                    WATER  \n",
       "2                   1           LKG8494WBH           BENZYL ALCOHOL  \n",
       "3                   1           685928Z18A     BENZENESULFONIC ACID  \n",
       "4                   1           059QF0KO0R                    WATER  "
      ]
     },
     "execution_count": 215,
     "metadata": {},
     "output_type": "execute_result"
    }
   ],
   "source": [
    "df.head()"
   ]
  },
  {
   "cell_type": "markdown",
   "metadata": {},
   "source": [
    "## Get Packaging Info"
   ]
  },
  {
   "cell_type": "code",
   "execution_count": 216,
   "metadata": {},
   "outputs": [],
   "source": [
    "# look at individual links packaging:\n",
    "def get_packaging(urls_list):\n",
    "    ndcs = []\n",
    "    pack_config = []\n",
    "    date_released = []\n",
    "\n",
    "    ingr_names = []\n",
    "    basis_str = []\n",
    "    strengths = []\n",
    "\n",
    "    for l in urls_list:\n",
    "        r_indi = requests.get(l)\n",
    "        soup_indi = BeautifulSoup(r_indi.content, \"html.parser\")\n",
    "        if soup_indi.find(\"li\", {\"class\": \"human\"}) is not None: #check if human drugs\n",
    "            try:\n",
    "                x = soup_indi.find(string=\"Packaging\").find_parent(\"table\") #find the table with the string \"Packaging\" as caption and its parent\n",
    "                \n",
    "                inactives = x.find_all(\"td\", {\"class\":\"formItem\"})\n",
    "\n",
    "                ndcs.append([inactives[i].text.strip() for i in range(0,len(inactives),4) if inactives[i].text.strip() != \"\"])\n",
    "\n",
    "                pack_config.append([inactives[i].string.replace(\"\\xa0\",\"\") for i in range(1,len(inactives),4) if inactives[i].string is not None])\n",
    "\n",
    "                date_released.append([inactives[i].string.replace(\"\\xa0\",\"\") for i in range(2,len(inactives),4) if inactives[i].string is not None])\n",
    "\n",
    "            except AttributeError:\n",
    "                pass\n",
    "\n",
    "            try:\n",
    "                active_con = soup_indi.find(string=\"Active Ingredient/Active Moiety\").find_parent(\"table\") #find the table with the string \"Active Ingredients\" as caption and its parent\n",
    "\n",
    "                actives = active_con.find_all(\"td\", {\"class\":\"formItem\"})\n",
    "\n",
    "                ingr_names.append([actives[i].text.strip() for i in range(0,len(actives),3) if actives[i].text.strip() != \"\"])\n",
    "\n",
    "                basis_str.append([actives[i].string.replace(\"\\xa0\",\"\") for i in range(1,len(actives),3) if actives[i].string is not None])\n",
    "\n",
    "                strengths.append([actives[i].string.replace(\"\\xa0\",\"\") for i in range(2,len(actives),3) if actives[i].string is not None])\n",
    "\n",
    "\n",
    "\n",
    "            except AttributeError:\n",
    "                pass\n",
    "\n",
    "        else:\n",
    "            continue\n",
    "\n",
    "    return ndcs, pack_config, date_released, ingr_names, basis_str, strengths\n",
    "\n"
   ]
  },
  {
   "cell_type": "code",
   "execution_count": 217,
   "metadata": {},
   "outputs": [],
   "source": [
    "#get all configurations for each drug\n",
    "drug_name = []\n",
    "drug_ndc = []\n",
    "drug_pack_config = []\n",
    "drug_date_released = []\n",
    "drug_ingr_names = []\n",
    "drug_basis_str = []\n",
    "drug_strengths = []\n",
    "for dr in drugs_dict:\n",
    "    n, p, d, ing, b, s = get_packaging(drugs_dict[dr])\n",
    "    drug_name = drug_name + [dr]*len(n)\n",
    "    drug_ndc = drug_ndc + n\n",
    "    drug_pack_config = drug_pack_config + p\n",
    "    drug_date_released = drug_date_released + d\n",
    "    drug_ingr_names = drug_ingr_names + ing\n",
    "    drug_basis_str = drug_basis_str + b\n",
    "    drug_strengths = drug_strengths + s\n",
    "\n"
   ]
  },
  {
   "cell_type": "code",
   "execution_count": null,
   "metadata": {},
   "outputs": [],
   "source": [
    "# make data table from all lists\n",
    "df_packing = pd.DataFrame({'drug_name': drug_name, 'drug_ndc': drug_ndc, 'drug_pack_config': drug_pack_config, 'drug_date_released': drug_date_released, 'drug_ingr_names': drug_ingr_names, 'drug_basis_str': drug_basis_str, 'drug_strengths': drug_strengths})\n",
    "\n",
    "#export pandas dataframe to csv\n",
    "df_packing.to_csv('drug_packaging_table_17Jan22.csv', index=False)"
   ]
  },
  {
   "cell_type": "code",
   "execution_count": null,
   "metadata": {},
   "outputs": [],
   "source": [
    "# Write unique excipients to file:\n",
    "with open(\"excipients_unique_17Jan22.txt\", \"w\") as f:    \n",
    "    for k, v in drugs_dict_unique_excipients.items():\n",
    "        f.write(k + \"~\" + str(list(v.values())) + \"\\n\")"
   ]
  },
  {
   "cell_type": "markdown",
   "metadata": {},
   "source": [
    "# OLD VERSION USING WEBBROWSER BELOW"
   ]
  },
  {
   "cell_type": "code",
   "execution_count": null,
   "metadata": {},
   "outputs": [],
   "source": [
    "search_url = \"https://dailymed.nlm.nih.gov/dailymed/search.cfm?labeltype=all&query=CIPROFLOXACIN&pagesize=200&page=1\""
   ]
  },
  {
   "cell_type": "code",
   "execution_count": null,
   "metadata": {},
   "outputs": [],
   "source": [
    "from selenium import webdriver\n",
    "import pandas as pd\n",
    "import time\n",
    "import re\n",
    "\n",
    "url = search_url\n",
    "browser = webdriver.Chrome(executable_path=output_file)\n",
    "browser.get(url)\n",
    "browser.implicitly_wait(10)\n",
    "articles = browser.find_elements_by_xpath(\"//div[@class='results']/article\")\n",
    "\n",
    "urls = []\n",
    "for article in articles:\n",
    "    url = article.find_element_by_class_name('drug-info-link').get_attribute('href')\n",
    "    urls.append(url)\n",
    "\n",
    "for url in urls:\n",
    "    try:\n",
    "        browser.get(url)\n",
    "        browser.implicitly_wait(10)\n",
    "        \n",
    "        browser.find_element_by_id('anch_dj_109').click()\n",
    "        time.sleep(1)\n",
    "        \n",
    "        li_tags = browser.find_elements_by_xpath(\"//div[@class='scrollingtable']/li\")\n",
    "        \n",
    "        for li_tag in li_tags:\n",
    "            txt = li_tag.text\n",
    "            if 'INGREDIENTS AND APPEARANCE' in txt:\n",
    "                tbs = li_tag.find_elements_by_class_name('internaltable')\n",
    "                for tb in tbs:\n",
    "                    product_type = ''\n",
    "                    route_admin = ''\n",
    "                    active_in = ''\n",
    "                    strength = ''\n",
    "                    inactives = ['', '', '', '', '', '', '', '', '', '']\n",
    "                    inactive_cons = ['', '', '', '', '', '', '', '', '', '']\n",
    "                    description = ''\n",
    "                    tables = tb.find_elements_by_class_name('formTablePetite')\n",
    "                    for table in tables:\n",
    "                        trs = table.find_elements_by_tag_name('tr')\n",
    "                        tbl_txt = table.text.lower()\n",
    "                        if 'active ingredient/active moiety' in tbl_txt:\n",
    "                            tr = trs[2]\n",
    "                            tds = tr.find_elements_by_tag_name('td')\n",
    "                            active_in = tds[0].text\n",
    "                            strength = tds[2].text\n",
    "                            continue\n",
    "                        if 'package description' in tbl_txt:\n",
    "                            cnt = -1\n",
    "                            for tr in trs:\n",
    "                                cnt += 1\n",
    "                                if cnt < 2: continue\n",
    "                                tds = tr.find_elements_by_tag_name('td')\n",
    "                                description += tds[1].text + ';'\n",
    "                                \n",
    "                            continue\n",
    "                        if 'inactive ingredients' in tbl_txt:\n",
    "                            cnt = -1\n",
    "                            for tr in trs:\n",
    "                                cnt += 1\n",
    "                                if cnt < 2: continue\n",
    "                                tds = tr.find_elements_by_tag_name('td')\n",
    "                                inactive = ''\n",
    "                                con = ''\n",
    "                                inactive = tds[0].text\n",
    "                                con = tds[1].text\n",
    "                                inactives[cnt - 2] = inactive\n",
    "                                inactive_cons[cnt - 2] = con\n",
    "                                \n",
    "                            continue\n",
    "                        if 'product information' in tbl_txt:\n",
    "                            for tr in trs:\n",
    "                                if 'Product Type' in tr.text:\n",
    "                                    tds = tr.find_elements_by_tag_name('td')\n",
    "                                    product_type = tds[1].text\n",
    "                                elif 'Route of Administration' in tr.text:\n",
    "                                    tds = tr.find_elements_by_tag_name('td')\n",
    "                                    route_admin = tds[1].text\n",
    "                            continue\n",
    "                    try:\n",
    "                        raw_data = {'product_type': [product_type],\n",
    "                                    'route_admin': [route_admin],\n",
    "                                    'active_in': [active_in],\n",
    "                                    'strength': [strength],\n",
    "                                    'inactive1': [inactives[0]],\n",
    "                                    'inactive_con1': [inactive_cons[0]],\n",
    "                                    'inactive2': [inactives[1]],\n",
    "                                    'inactive_con2': [inactive_cons[1]],\n",
    "                                    'inactive3': [inactives[2]],\n",
    "                                    'inactive_con3': [inactive_cons[2]],\n",
    "                                    'inactive4': [inactives[3]],\n",
    "                                    'inactive_con4': [inactive_cons[3]],\n",
    "                                    'inactive5': [inactives[4]],\n",
    "                                    'inactive_con5': [inactive_cons[4]],\n",
    "                                    'inactive6': [inactives[5]],\n",
    "                                    'inactive_con6': [inactive_cons[5]],\n",
    "                                    'inactive7': [inactives[6]],\n",
    "                                    'inactive_con7': [inactive_cons[6]],\n",
    "                                    'inactive8': [inactives[7]],\n",
    "                                    'inactive_con8': [inactive_cons[7]],\n",
    "                                    'inactive9': [inactives[8]],\n",
    "                                    'inactive_con9': [inactive_cons[8]],\n",
    "                                    'inactive10': [inactives[9]],\n",
    "                                    'inactive_con10': [inactive_cons[9]],\n",
    "                                    'description': [description]\n",
    "                                    }\n",
    "                        print('--', raw_data)\n",
    "                        df = pd.DataFrame(raw_data,\n",
    "                                          columns=['product_type', 'route_admin', 'active_in', 'strength',\n",
    "                                                   'inactive1', 'inactive_con1', 'inactive2', 'inactive_con2',\n",
    "                                                   'inactive3', 'inactive_con3', 'inactive4', 'inactive_con4', 'inactive5', 'inactive_con5', 'inactive6', 'inactive_con6', 'inactive7', 'inactive_con7', 'inactive8', 'inactive_con8', 'inactive9', 'inactive_con9', 'inactive10', 'inactive_con10', 'description'])\n",
    "                        df.to_csv('Cipro_25May21.csv', mode='a', header=False, index=False)\n",
    "\n",
    "                    except Exception as ex:\n",
    "                        print(ex)\n",
    "    except Exception as ex:\n",
    "        print(ex)\n",
    "\n",
    "browser.quit()"
   ]
  },
  {
   "cell_type": "code",
   "execution_count": null,
   "metadata": {},
   "outputs": [],
   "source": [
    "getdata(testtxt, \"sodium chloride\")"
   ]
  },
  {
   "cell_type": "code",
   "execution_count": null,
   "metadata": {},
   "outputs": [],
   "source": []
  }
 ],
 "metadata": {
  "kernelspec": {
   "display_name": "Python 3",
   "language": "python",
   "name": "python3"
  },
  "language_info": {
   "codemirror_mode": {
    "name": "ipython",
    "version": 3
   },
   "file_extension": ".py",
   "mimetype": "text/x-python",
   "name": "python",
   "nbconvert_exporter": "python",
   "pygments_lexer": "ipython3",
   "version": "3.8.11"
  }
 },
 "nbformat": 4,
 "nbformat_minor": 4
}
