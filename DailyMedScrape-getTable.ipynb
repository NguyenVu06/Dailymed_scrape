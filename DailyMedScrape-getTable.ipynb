{
 "cells": [
  {
   "cell_type": "code",
   "execution_count": 1,
   "metadata": {},
   "outputs": [
    {
     "name": "stdout",
     "output_type": "stream",
     "text": [
      "Collecting seleniumNote: you may need to restart the kernel to use updated packages.\n",
      "\n",
      "  Downloading selenium-3.141.0-py2.py3-none-any.whl (904 kB)\n",
      "Requirement already satisfied: urllib3 in c:\\users\\dao.vu\\anaconda3\\lib\\site-packages (from selenium) (1.25.9)\n",
      "Installing collected packages: selenium\n",
      "Successfully installed selenium-3.141.0\n"
     ]
    }
   ],
   "source": [
    "pip install selenium"
   ]
  },
  {
   "cell_type": "code",
   "execution_count": 3,
   "metadata": {},
   "outputs": [
    {
     "data": {
      "text/plain": [
       "'C:\\\\Users\\\\Dao.Vu\\\\Desktop\\\\ODP\\\\DrugInfoWebscrape'"
      ]
     },
     "execution_count": 3,
     "metadata": {},
     "output_type": "execute_result"
    }
   ],
   "source": [
    "import os\n",
    "os.path.abspath(os.getcwd())"
   ]
  },
  {
   "cell_type": "code",
   "execution_count": 2,
   "metadata": {},
   "outputs": [
    {
     "name": "stdout",
     "output_type": "stream",
     "text": [
      "-- {'name': ['name'], 'company': ['company'], 'com1': ['com1'], 'com1_con': ['com1_con'], 'com2': ['com2'], 'com2_con': ['com2_con'], 'com3': ['com3'], 'com3_con': ['com3_con'], 'com4': ['com4'], 'com4_con': ['com4_con'], 'com5': ['com5'], 'com5_con': ['com5_con'], 'ph': ['ph'], 'dosage': ['dosage']}\n",
      "-- {'name': ['CISATRACURIUM- cisatracurium besylate injection, solution'], 'company': ['Fresenius Kabi USA, LLC'], 'com1': [''], 'com1_con': [''], 'com2': [''], 'com2_con': [''], 'com3': [''], 'com3_con': [''], 'com4': [''], 'com4_con': [''], 'com5': [''], 'com5_con': [''], 'ph': [\"DESCRIPTION:\\nCisatracurium Besylate Injection, USP is a non-depolarizing skeletal muscle relaxant for intravenous administration.  Compared to other neuromuscular blocking agents, it is intermediate in its onset and duration of action.  Cisatracurium besylate is one of 10 isomers of atracurium besylate and constitutes approximately 15% of that mixture.  Cisatracurium besylate is [1 R -[1α,2α(1' R*,2' R*)]]-2,2'-[1,5-pentanediylbis[oxy(3-oxo-3,1-propanediyl)]]bis[1-[(3,4-dimethoxyphenyl)methyl]-1,2,3,4-tetrahydro-6,7-dimethoxy-2-methylisoquinolinium] dibenzenesulfonate.  The molecular formula of the cisatracurium parent bis-cation is C 53H 72N 2O 12 and the molecular weight is 929.2.  The molecular formula of cisatracurium as the besylate salt is C 65H 82N 2O 18S 2 and the molecular weight is 1243.50.\\nThe structural formula of cisatracurium besylate is:\\n  The log of the partition coefficient of cisatracurium besylate is -2.12 in a 1-octanol/distilled water system at 25°C.\\nCisatracurium Besylate Injection, USP is a sterile, non-pyrogenic aqueous solution provided in 5 mL, 10 mL, and 20 mL vials.  The pH is adjusted to 3.25 to 3.65 with benzenesulfonic acid.  The 5 mL and 10 mL vials each contain cisatracurium besylate, equivalent to 2 mg/mL cisatracurium.  The 20 mL vial, intended for ICU use only, contains cisatracurium besylate, equivalent to 10 mg/mL cisatracurium.  The 10 mL vial, intended for multiple dose use, contains 0.9% benzyl alcohol as a preservative.  The 5 mL and 20 mL vials are single dose vials and do not contain benzyl alcohol.\\nCisatracurium besylate slowly loses potency with time at a rate of approximately 5% per year under refrigeration (5°C).  Cisatracurium should be refrigerated at 2° to 8°C (36° to 46°F) in the carton to preserve potency.  The rate of loss in potency increases to approximately 5% per month at 25°C (77°F).  Upon removal from refrigeration to room temperature storage conditions (25°C/77°F), use cisatracurium within 21 days, even if rerefrigerated.\\nCLOSE\"], 'dosage': ['']}\n",
      "-- {'name': ['CISATRACURIUM BESYLATE injection'], 'company': ['AuroMedics Pharma LLC'], 'com1': [''], 'com1_con': [''], 'com2': [''], 'com2_con': [''], 'com3': [''], 'com3_con': [''], 'com4': [''], 'com4_con': [''], 'com5': [''], 'com5_con': [''], 'ph': ['TABLE OF CONTENTS\\nFULL PRESCRIBING INFORMATION: CONTENTS*\\n1 INDICATIONS AND USAGE\\n2 DOSAGE AND ADMINISTRATION\\n2.1 Important Dosage and Administration Instructions\\n2.2 Recommended Cisatracurium Besylate Injection Dose for Performing Tracheal Intubation\\n2.3 Recommended Maintenance Bolus Cisatracurium Besylate Injection Doses in Adult Surgical Procedures\\n2.4 Dosage in Burn Patients\\n2.5 Dosage for Continuous Infusion\\n2.6 Rate Tables for Continuous Infusion\\n2.7 Preparation of Cisatracurium Besylate Injection\\n2.8 Drug Compatibility\\n3 DOSAGE FORMS AND STRENGTHS\\n4 CONTRAINDICATIONS\\n5 WARNINGS AND PRECAUTIONS\\n5.1 Residual Paralysis\\n5.2 Risk of Serious Adverse Reactions in Infants due to Benzyl Alcohol Preservative in 10 mL Multiple-Dose Vials\\n5.3 Risk of Seizure\\n5.4 Hypersensitivity Reactions Including Anaphylaxis\\n5.5 Risk of Death Due to Medication Errors\\n5.6 Risks Due to Inadequate Anesthesia\\n5.8 Potentiation of Neuromuscular Blockade\\n5.9 Resistance to Neuromuscular Blockade with Certain Drugs\\n5.10 Malignant Hyperthermia (MH)\\n6 ADVERSE REACTIONS\\n6.1 Clinical Studies Experience\\n6.2 Postmarketing Experience\\n7 DRUG INTERACTIONS\\n7.1 Clinically Significant Drug Interactions\\n7.2 Drugs Without Clinically Significant Drug Interactions With Cisatracurium Besylate\\n8 USE IN SPECIFIC POPULATIONS\\n8.1 Pregnancy\\n8.2 Lactation\\n8.4 Pediatric Use\\n8.5 Geriatric Use\\n8.6 Patients with Renal Impairment\\n8.7 Patients with Hepatic Impairment\\n8.8 Burn Patients\\n8.9 Patients with Hemiparesis or Paraparesis\\n8.10 Patients with Neuromuscular Disease\\n10 OVERDOSAGE\\n11 DESCRIPTION\\n12 CLINICAL PHARMACOLOGY\\n12.1 Mechanism of Action\\n12.2 Pharmacodynamics\\n12.3 Pharmacokinetics\\n13 NONCLINICAL TOXICOLOGY\\n13.1 Carcinogenesis, Mutagenesis, Impairment of Fertility\\n14 CLINICAL STUDIES\\n14.1 Skeletal Muscle Relaxation for Intubation of Adult Patients\\n14.2 Skeletal Muscle Relaxation for Intubation of Pediatric Patients\\n14.3 Skeletal Muscle Relaxation in ICU Patients\\n16 HOW SUPPLIED/STORAGE AND HANDLING\\n17 PATIENT COUNSELING INFORMATION\\n*\\nSections or subsections omitted from the full prescribing information are not listed.\\nCLOSE'], 'dosage': ['']}\n",
      "-- {'name': ['CISATRACURIUM BESYLATE injection'], 'company': ['Avet Pharmaceuticals Inc.'], 'com1': [''], 'com1_con': [''], 'com2': [''], 'com2_con': [''], 'com3': [''], 'com3_con': [''], 'com4': [''], 'com4_con': [''], 'com5': [''], 'com5_con': [''], 'ph': ['TABLE OF CONTENTS\\nFULL PRESCRIBING INFORMATION: CONTENTS*\\n1 INDICATIONS AND USAGE\\n2 DOSAGE & ADMINISTRATION\\n2.1 Important Dosage and Administration Instructions\\n2.2 Recommended Cisatracurium Besylate Injection, USP Dose for Performing Tracheal Intubation\\n2.3 Recommended Maintenance Bolus Cisatracurium Besylate Injection, USP Doses in Adult Surgical Procedures\\n2.4 Dosage in Burn Patients\\n2.5 Dosage for Continuous Infusion\\n2.6 Rate Tables for Continuous Infusion\\n2.7 Preparation of Cisatracurium Besylate Injection, USP\\n2.8 Drug Compatibility\\n3 DOSAGE FORMS & STRENGTHS\\n4 CONTRAINDICATIONS\\n5 WARNINGS AND PRECAUTIONS\\n5.1 Residual Paralysis\\n5.2 Risk of Serious Adverse Reactions in Infants due to Benzyl Alcohol Preservative in 10 mL Multiple-Dose Vials\\n5.3 Risk of Seizure\\n5.4 Hypersensitivity Reactions Including Anaphylaxis\\n5.5 Risk of Death Due to Medication Errors\\n5.6 Risks Due to Inadequate Anesthesia\\n5.8 Potentiation of Neuromuscular Blockade\\n5.9 Resistance to Neuromuscular Blockade with Certain Drugs\\n5.10 Malignant Hyperthermia (MH)\\n6 ADVERSE REACTIONS\\n6.1 Clinical Studies Experience\\n6.2 Postmarketing Experience\\n7 DRUG INTERACTIONS\\n7.1 Clinically Significant Drug Interactions\\n7.2 Drugs Without Clinically Significant Drug Interactions With Cisatracurium besylate\\n8 USE IN SPECIFIC POPULATIONS\\n8.1 Pregnancy\\n8.2 Lactation\\n8.4 Pediatric Use\\n8.5 Geriatric Use\\n8.6 Patients with Renal Impairment\\n8.7 Patients with Hepatic Impairment\\n8.8 Burn Patients\\n8.9 Patients with Hemiparesis or Paraparesis\\n8.10 Patients with Neuromuscular Disease\\n10 OVERDOSAGE\\n11 DESCRIPTION\\n12 CLINICAL PHARMACOLOGY\\n12.1 Mechanism of Action\\n12.2 Pharmacodynamics\\n12.3 Pharmacokinetics\\n13 NONCLINICAL TOXICOLOGY\\n13.1 Carcinogenesis, Mutagenesis, Impairment Of Fertility\\n14 CLINICAL STUDIES\\n14.1 Skeletal Muscle Relaxation for Intubation of Adult Patients\\n14.2 Skeletal Muscle Relaxation for Intubation of Pediatric Patients\\n14.3 Skeletal Muscle Relaxation in ICU Patients\\n16 HOW SUPPLIED/STORAGE AND HANDLING\\n17 PATIENT COUNSELING INFORMATION\\n*\\nSections or subsections omitted from the full prescribing information are not listed.\\nCLOSE'], 'dosage': ['']}\n",
      "-- {'name': ['CISATRACURIUM BESYLATE injection'], 'company': ['Cadila Healthcare Limited'], 'com1': [''], 'com1_con': [''], 'com2': [''], 'com2_con': [''], 'com3': [''], 'com3_con': [''], 'com4': [''], 'com4_con': [''], 'com5': [''], 'com5_con': [''], 'ph': [''], 'dosage': ['']}\n",
      "-- {'name': ['CISATRACURIUM BESYLATE injection'], 'company': ['Sandoz Inc'], 'com1': [''], 'com1_con': [''], 'com2': [''], 'com2_con': [''], 'com3': [''], 'com3_con': [''], 'com4': [''], 'com4_con': [''], 'com5': [''], 'com5_con': [''], 'ph': ['TABLE OF CONTENTS\\nFULL PRESCRIBING INFORMATION: CONTENTS*\\n1 INDICATIONS AND USAGE\\n2 DOSAGE AND ADMINISTRATION\\n2.1 Important Dosage and Administration Instructions\\n2.2 Recommended Cisatracurium Besylate Injection Dose for Performing Tracheal Intubation\\n2.3 Recommended Maintenance Bolus Cisatracurium Besylate Doses in Adult Surgical Procedures\\n2.4 Dosage in Burn Patients\\n2.5 Dosage for Continuous Infusion\\n2.6 Rate Tables for Continuous Infusion\\n2.7 Preparation of Cisatracurium Besylate Injection\\n2.8 Drug Compatibility\\n3 DOSAGE FORMS AND STRENGTHS\\n4 CONTRAINDICATIONS\\n5 WARNINGS AND PRECAUTIONS\\n5.1 Residual Paralysis\\n5.3 Risk of Seizure\\n5.4 Hypersensitivity Reactions Including Anaphylaxis\\n5.5 Risk of Death Due to Medication Errors\\n5.6 Risks Due to Inadequate Anesthesia\\n5.7 Risk for Infection\\n5.8 Potentiation of Neuromuscular Blockade\\n5.9 Resistance to Neuromuscular Blockade with Certain Drugs\\n5.10 Malignant Hyperthermia (MH)\\n6 ADVERSE REACTIONS\\n6.1 Clinical Studies Experience\\n6.2 Postmarketing Experience\\n7 DRUG INTERACTIONS\\n7.1 Clinically Significant Drug Interactions\\n7.2 Drugs Without Clinically Significant Drug Interactions With Cisatracurium Besylate\\n8 USE IN SPECIFIC POPULATIONS\\n8.1 Pregnancy\\n8.2 Lactation\\n8.4 Pediatric Use\\n8.5 Geriatric Use\\n8.6 Patients with Renal Impairment\\n8.7 Patients with Hepatic Impairment\\n8.8 Burn Patients\\n8.9 Patients with Hemiparesis or Paraparesis\\n8.10 Patients with Neuromuscular Disease\\n10 OVERDOSAGE\\n11 DESCRIPTION\\n12 CLINICAL PHARMACOLOGY\\n12.1 Mechanism of Action\\n12.2 Pharmacodynamics\\n12.3 Pharmacokinetics\\n13 NONCLINICAL TOXICOLOGY\\n13.1 Carcinogenesis, Mutagenesis, Impairment of Fertility\\n14 CLINICAL STUDIES\\n14.1 Skeletal Muscle Relaxation for Intubation of Adult Patients\\n14.2 Skeletal Muscle Relaxation for Intubation of Pediatric Patients\\n14.3 Skeletal Muscle Relaxation in ICU Patients\\n16 HOW SUPPLIED/STORAGE AND HANDLING\\nStorage\\n17 PATIENT COUNSELING INFORMATION\\n*\\nSections or subsections omitted from the full prescribing information are not listed.\\nCLOSE'], 'dosage': ['']}\n"
     ]
    },
    {
     "name": "stdout",
     "output_type": "stream",
     "text": [
      "-- {'name': ['CISATRACURIUM BESYLATE injection'], 'company': ['Sandoz Inc'], 'com1': [''], 'com1_con': [''], 'com2': [''], 'com2_con': [''], 'com3': [''], 'com3_con': [''], 'com4': [''], 'com4_con': [''], 'com5': [''], 'com5_con': [''], 'ph': ['TABLE OF CONTENTS\\nFULL PRESCRIBING INFORMATION: CONTENTS*\\n1 INDICATIONS AND USAGE\\n2 DOSAGE AND ADMINISTRATION\\n2.1 Important Dosage and Administration Instructions\\n2.2 Recommended Cisatracurium Besylate Injection Dose for Performing Tracheal Intubation\\n2.3 Recommended Maintenance Bolus Cisatracurium Besylate Injection Doses in Adult Surgical Procedures\\n2.4 Dosage in Burn Patients\\n2.5 Dosage for Continuous Infusion\\n2.6 Rate Tables for Continuous Infusion\\n2.7 Preparation of Cisatracurium Besylate Injection\\n2.8 Drug Compatibility\\n3 DOSAGE FORMS AND STRENGTHS\\n4 CONTRAINDICATIONS\\n5 WARNINGS AND PRECAUTIONS\\n5.1 Residual Paralysis\\n5.2 Risk of Serious Adverse Reactions in Infants due to Benzyl Alcohol Preservative in 10 mL Multiple-Dose Vials\\n5.3 Risk of Seizure\\n5.4 Hypersensitivity Reactions Including Anaphylaxis\\n5.5 Risk of Death Due to Medication Errors\\n5.6 Risks Due to Inadequate Anesthesia\\n5.7 Risk for Infection\\n5.8 Potentiation of Neuromuscular Blockade\\n5.9 Resistance to Neuromuscular Blockade with Certain Drugs\\n5.10 Malignant Hyperthermia (MH)\\n6 ADVERSE REACTIONS\\n6.1 Clinical Studies Experience\\n6.2 Postmarketing Experience\\n7 DRUG INTERACTIONS\\n7.1 Clinically Significant Drug Interactions\\n7.2 Drugs Without Clinically Significant Drug Interactions With Cisatracurium Besylate\\n8 USE IN SPECIFIC POPULATIONS\\n8.1 Pregnancy\\n8.2 Lactation\\n8.4 Pediatric Use\\n8.5 Geriatric Use\\n8.6 Patients with Renal Impairment\\n8.7 Patients with Hepatic Impairment\\n8.8 Burn Patients\\n8.9 Patients with Hemiparesis or Paraparesis\\n8.10 Patients with Neuromuscular Disease\\n10 OVERDOSAGE\\n11 DESCRIPTION\\n12 CLINICAL PHARMACOLOGY\\n12.1 Mechanism of Action\\n12.2 Pharmacodynamics\\n12.3 Pharmacokinetics\\n13 NONCLINICAL TOXICOLOGY\\n13.1 Carcinogenesis, Mutagenesis, Impairment of Fertility\\n14 CLINICAL STUDIES\\n14.1 Skeletal Muscle Relaxation for Intubation of Adult Patients\\n14.2 Skeletal Muscle Relaxation for Intubation of Pediatric Patients\\n14.3 Skeletal Muscle Relaxation in ICU Patients\\n16 HOW SUPPLIED/STORAGE AND HANDLING\\n17 PATIENT COUNSELING INFORMATION\\n*\\nSections or subsections omitted from the full prescribing information are not listed.\\nCLOSE'], 'dosage': ['']}\n",
      "-- {'name': ['CISATRACURIUM BESYLATE injection'], 'company': ['Sandoz Inc'], 'com1': [''], 'com1_con': [''], 'com2': [''], 'com2_con': [''], 'com3': [''], 'com3_con': [''], 'com4': [''], 'com4_con': [''], 'com5': [''], 'com5_con': [''], 'ph': ['11 DESCRIPTION\\nCisatracurium besylate is a nondepolarizing skeletal neuromuscular blocker for intravenous administration. Compared to other neuromuscular blockers, it is intermediate in its onset and duration of ...'], 'dosage': ['']}\n",
      "-- {'name': ['CISATRACURIUM BESYLATE injection'], 'company': ['Sandoz Inc'], 'com1': [''], 'com1_con': [''], 'com2': [''], 'com2_con': [''], 'com3': [''], 'com3_con': [''], 'com4': [''], 'com4_con': [''], 'com5': [''], 'com5_con': [''], 'ph': ['11 DESCRIPTION\\nCisatracurium besylate is a nondepolarizing skeletal neuromuscular blocker for intravenous administration. Compared to other neuromuscular blockers, it is intermediate in its onset and duration of ...'], 'dosage': ['']}\n",
      "-- {'name': ['CISATRACURIUM BESYLATE injection'], 'company': ['Somerset Therapeutics, LLC'], 'com1': [''], 'com1_con': [''], 'com2': [''], 'com2_con': [''], 'com3': [''], 'com3_con': [''], 'com4': [''], 'com4_con': [''], 'com5': [''], 'com5_con': [''], 'ph': ['11 DESCRIPTION\\nCisatracurium besylate injection, USP is a nondepolarizing skeletal neuromuscular blocker for intravenous administration. Compared to other neuromuscular blockers, it is intermediate in its onset ...'], 'dosage': ['']}\n",
      "-- {'name': ['CISATRACURIUM BESYLATE injection'], 'company': ['Somerset Therapeutics, LLC'], 'com1': [''], 'com1_con': [''], 'com2': [''], 'com2_con': [''], 'com3': [''], 'com3_con': [''], 'com4': [''], 'com4_con': [''], 'com5': [''], 'com5_con': [''], 'ph': ['11 DESCRIPTION\\nCisatracurium besylate injection, USP is a nondepolarizing skeletal neuromuscular blocker for intravenous administration. Compared to other neuromuscular blockers, it is intermediate in its onset ...'], 'dosage': ['']}\n",
      "-- {'name': ['CISATRACURIUM BESYLATE injection'], 'company': ['Teva Parenteral Medicines, Inc.'], 'com1': [''], 'com1_con': [''], 'com2': [''], 'com2_con': [''], 'com3': [''], 'com3_con': [''], 'com4': [''], 'com4_con': [''], 'com5': [''], 'com5_con': [''], 'ph': ['TABLE OF CONTENTS\\nFULL PRESCRIBING INFORMATION: CONTENTS*\\nRECENT MAJOR CHANGES\\n1 INDICATIONS AND USAGE\\n2 DOSAGE AND ADMINISTRATION\\n2.1 Important Dosage and Administration Instructions\\n2.2 Recommended Cisatracurium Besylate Injection Dose for Performing Tracheal Intubation\\n2.3 Recommended Maintenance Bolus Cisatracurium Besylate Injection Doses in Adult Surgical Procedures\\n2.4 Dosage in Burn Patients\\n2.5 Dosage for Continuous Infusion\\n2.6 Rate Tables for Continuous Infusion\\n2.7 Preparation of Cisatracurium Besylate Injection\\n2.8 Drug Compatibility\\n3 DOSAGE FORMS AND STRENGTHS\\n4 CONTRAINDICATIONS\\n5 WARNINGS AND PRECAUTIONS\\n5.1 Residual Paralysis\\n5.2 Risk of Serious Adverse Reactions in Infants due to Benzyl Alcohol Preservative in 10 mL Multiple-Dose Vials\\n5.3 Risk of Seizure\\n5.4 Hypersensitivity Reactions Including Anaphylaxis\\n5.5 Risk of Death Due to Medication Errors\\n5.6 Risks Due to Inadequate Anesthesia\\n5.7 Risk for Infection\\n5.8 Potentiation of Neuromuscular Blockade\\n5.9 Resistance to Neuromuscular Blockade with Certain Drugs\\n5.10 Malignant Hyperthermia (MH)\\n6 ADVERSE REACTIONS\\n6.1 Clinical Studies Experience\\n6.2 Postmarketing Experience\\n7 DRUG INTERACTIONS\\n7.1 Clinically Significant Drug Interactions\\n7.2 Drugs Without Clinically Significant Drug Interactions With Cisatracurium\\n8 USE IN SPECIFIC POPULATIONS\\n8.1 Pregnancy\\n8.2 Lactation\\n8.4 Pediatric Use\\n8.5 Geriatric Use\\n8.6 Patients with Renal Impairment\\n8.7 Patients with Hepatic Impairment\\n8.8 Burn Patients\\n8.9 Patients with Hemiparesis or Paraparesis\\n8.10 Patients with Neuromuscular Disease\\n10 OVERDOSAGE\\n11 DESCRIPTION\\n12 CLINICAL PHARMACOLOGY\\n12.1 Mechanism of Action\\n12.2 Pharmacodynamics\\n12.3 Pharmacokinetics\\n13 NONCLINICAL TOXICOLOGY\\n13.1 Carcinogenesis, Mutagenesis, Impairment of Fertility\\n14 CLINICAL STUDIES\\n14.1 Skeletal Muscle Relaxation for Intubation of Adult Patients\\n14.2 Skeletal Muscle Relaxation for Intubation of Pediatric Patients\\n14.3 Skeletal Muscle Relaxation in ICU Patients\\n16 HOW SUPPLIED/STORAGE AND HANDLING\\n17 PATIENT COUNSELING INFORMATION\\n*\\nSections or subsections omitted from the full prescribing information are not listed.\\nCLOSE'], 'dosage': ['']}\n",
      "-- {'name': ['CISATRACURIUM BESYLATE injection'], 'company': ['Zydus Pharmaceuticals (USA) Inc.'], 'com1': [''], 'com1_con': [''], 'com2': [''], 'com2_con': [''], 'com3': [''], 'com3_con': [''], 'com4': [''], 'com4_con': [''], 'com5': [''], 'com5_con': [''], 'ph': ['11 DESCRIPTION\\nCisatracurium besylate injection USP is a nondepolarizing skeletal neuromuscular blocker for intravenous administration. Compared to other neuromuscular blockers, it is intermediate in its onset ...'], 'dosage': ['']}\n",
      "-- {'name': ['CISATRACURIUM BESYLATE injection, solution'], 'company': ['Hospira, Inc.'], 'com1': [''], 'com1_con': [''], 'com2': [''], 'com2_con': [''], 'com3': [''], 'com3_con': [''], 'com4': [''], 'com4_con': [''], 'com5': [''], 'com5_con': [''], 'ph': ['11 DESCRIPTION\\nCisatracurium besylate is a nondepolarizing skeletal neuromuscular blocker for intravenous administration. Compared to other neuromuscular blockers, it is intermediate in its onset and duration of ...'], 'dosage': ['']}\n",
      "-- {'name': ['CISATRACURIUM BESYLATE injection, solution'], 'company': ['Meitheal Pharmaceuticals Inc.'], 'com1': [''], 'com1_con': [''], 'com2': [''], 'com2_con': [''], 'com3': [''], 'com3_con': [''], 'com4': [''], 'com4_con': [''], 'com5': [''], 'com5_con': [''], 'ph': ['11 DESCRIPTION\\nCisatracurium besylate is a nondepolarizing skeletal neuromuscular blocker for intravenous administration. Compared to other neuromuscular blockers, it is intermediate in its onset and duration of ...'], 'dosage': ['']}\n"
     ]
    },
    {
     "name": "stdout",
     "output_type": "stream",
     "text": [
      "-- {'name': ['NIMBEX- cisatracurium besylate injection'], 'company': ['AbbVie Inc.'], 'com1': [''], 'com1_con': [''], 'com2': [''], 'com2_con': [''], 'com3': [''], 'com3_con': [''], 'com4': [''], 'com4_con': [''], 'com5': [''], 'com5_con': [''], 'ph': ['11 DESCRIPTION\\nNIMBEX (cisatracurium besylate) is a nondepolarizing skeletal neuromuscular blocker for intravenous administration. Compared to other neuromuscular blockers, it is intermediate in its onset and ...'], 'dosage': ['']}\n",
      "-- {'name': ['NIMBEX- cisatracurium besylate injection'], 'company': ['AbbVie Inc.'], 'com1': [''], 'com1_con': [''], 'com2': [''], 'com2_con': [''], 'com3': [''], 'com3_con': [''], 'com4': [''], 'com4_con': [''], 'com5': [''], 'com5_con': [''], 'ph': ['TABLE OF CONTENTS\\nFULL PRESCRIBING INFORMATION: CONTENTS*\\n1 INDICATIONS AND USAGE\\n2 DOSAGE AND ADMINISTRATION\\n2.1 Important Dosage and Administration Instructions\\n2.2 Recommended NIMBEX Dose for Performing Tracheal Intubation\\n2.3 Recommended Maintenance Bolus NIMBEX Doses in Adult Surgical Procedures\\n2.4 Dosage in Burn Patients\\n2.5 Dosage for Continuous Infusion\\n2.6 Rate Tables for Continuous Infusion\\n2.7 Preparation of NIMBEX\\n2.8 Drug Compatibility\\n3 DOSAGE FORMS AND STRENGTHS\\n4 CONTRAINDICATIONS\\n5 WARNINGS AND PRECAUTIONS\\n5.1 Residual Paralysis\\n5.2 Risk of Serious Adverse Reactions in Infants due to Benzyl Alcohol Preservative in 10 mL Multiple-Dose Vials\\n5.3 Risk of Seizure\\n5.4 Hypersensitivity Reactions Including Anaphylaxis\\n5.5 Risk of Death Due to Medication Errors\\n5.6 Risks Due to Inadequate Anesthesia\\n5.7 Risk for Infection\\n5.8 Potentiation of Neuromuscular Blockade\\n5.9 Resistance to Neuromuscular Blockade with Certain Drugs\\n5.10 Malignant Hyperthermia (MH)\\n6 ADVERSE REACTIONS\\n6.1 Clinical Studies Experience\\n6.2 Postmarketing Experience\\n7 DRUG INTERACTIONS\\n7.1 Clinically Significant Drug Interactions\\n7.2 Drugs Without Clinically Significant Drug Interactions With NIMBEX\\n8 USE IN SPECIFIC POPULATIONS\\n8.1 Pregnancy\\n8.2 Lactation\\n8.4 Pediatric Use\\n8.5 Geriatric Use\\n8.6 Patients with Renal Impairment\\n8.7 Patients with Hepatic Impairment\\n8.8 Burn Patients\\n8.9 Patients with Hemiparesis or Paraparesis\\n8.10 Patients with Neuromuscular Disease\\n10 OVERDOSAGE\\n11 DESCRIPTION\\n12 CLINICAL PHARMACOLOGY\\n12.1 Mechanism of Action\\n12.2 Pharmacodynamics\\n12.3 Pharmacokinetics\\n13 NONCLINICAL TOXICOLOGY\\n13.1 Carcinogenesis, Mutagenesis, Impairment of Fertility\\n14 CLINICAL STUDIES\\n14.1 Skeletal Muscle Relaxation for Intubation of Adult Patients\\n14.2 Skeletal Muscle Relaxation for Intubation of Pediatric Patients\\n14.3 Skeletal Muscle Relaxation in ICU Patients\\n16 HOW SUPPLIED/STORAGE AND HANDLING\\n17 PATIENT COUNSELING INFORMATION\\n*\\nSections or subsections omitted from the full prescribing information are not listed.\\nCLOSE'], 'dosage': ['']}\n",
      "-- {'name': ['NIMBEX- cisatracurium besylate injection'], 'company': ['AbbVie Inc.'], 'com1': [''], 'com1_con': [''], 'com2': [''], 'com2_con': [''], 'com3': [''], 'com3_con': [''], 'com4': [''], 'com4_con': [''], 'com5': [''], 'com5_con': [''], 'ph': ['TABLE OF CONTENTS\\nFULL PRESCRIBING INFORMATION: CONTENTS*\\n1 INDICATIONS AND USAGE\\n2 DOSAGE AND ADMINISTRATION\\n2.1 Important Dosage and Administration Instructions\\n2.2 Recommended NIMBEX Dose for Performing Tracheal Intubation\\n2.3 Recommended Maintenance Bolus NIMBEX Doses in Adult Surgical Procedures\\n2.4 Dosage in Burn Patients\\n2.5 Dosage for Continuous Infusion\\n2.6 Rate Tables for Continuous Infusion\\n2.7 Preparation of NIMBEX\\n2.8 Drug Compatibility\\n3 DOSAGE FORMS AND STRENGTHS\\n4 CONTRAINDICATIONS\\n5 WARNINGS AND PRECAUTIONS\\n5.1 Residual Paralysis\\n5.2 Risk of Serious Adverse Reactions in Infants due to Benzyl Alcohol Preservative in 10 mL Multiple-Dose Vials\\n5.3 Risk of Seizure\\n5.4 Hypersensitivity Reactions Including Anaphylaxis\\n5.5 Risk of Death Due to Medication Errors\\n5.6 Risks Due to Inadequate Anesthesia\\n5.7 Risk for Infection\\n5.8 Potentiation of Neuromuscular Blockade\\n5.9 Resistance to Neuromuscular Blockade with Certain Drugs\\n5.10 Malignant Hyperthermia (MH)\\n6 ADVERSE REACTIONS\\n6.1 Clinical Studies Experience\\n6.2 Postmarketing Experience\\n7 DRUG INTERACTIONS\\n7.1 Clinically Significant Drug Interactions\\n7.2 Drugs Without Clinically Significant Drug Interactions With NIMBEX\\n8 USE IN SPECIFIC POPULATIONS\\n8.1 Pregnancy\\n8.2 Lactation\\n8.4 Pediatric Use\\n8.5 Geriatric Use\\n8.6 Patients with Renal Impairment\\n8.7 Patients with Hepatic Impairment\\n8.8 Burn Patients\\n8.9 Patients with Hemiparesis or Paraparesis\\n8.10 Patients with Neuromuscular Disease\\n10 OVERDOSAGE\\n11 DESCRIPTION\\n12 CLINICAL PHARMACOLOGY\\n12.1 Mechanism of Action\\n12.2 Pharmacodynamics\\n12.3 Pharmacokinetics\\n13 NONCLINICAL TOXICOLOGY\\n13.1 Carcinogenesis, Mutagenesis, Impairment of Fertility\\n14 CLINICAL STUDIES\\n14.1 Skeletal Muscle Relaxation for Intubation of Adult Patients\\n14.2 Skeletal Muscle Relaxation for Intubation of Pediatric Patients\\n14.3 Skeletal Muscle Relaxation in ICU Patients\\n16 HOW SUPPLIED/STORAGE AND HANDLING\\n17 PATIENT COUNSELING INFORMATION\\n*\\nSections or subsections omitted from the full prescribing information are not listed.\\nCLOSE'], 'dosage': ['']}\n"
     ]
    }
   ],
   "source": [
    "from selenium import webdriver\n",
    "import pandas as pd\n",
    "import time\n",
    "import re\n",
    "\n",
    "try:\n",
    "    raw_data = {'name': ['name'],\n",
    "                'company': ['company'],\n",
    "                'com1': ['com1'],\n",
    "                'com1_con': ['com1_con'],\n",
    "                'com2': ['com2'],\n",
    "                'com2_con': ['com2_con'],\n",
    "                'com3': ['com3'],\n",
    "                'com3_con': ['com3_con'],\n",
    "                'com4': ['com4'],\n",
    "                'com4_con': ['com4_con'],\n",
    "                'com5': ['com5'],\n",
    "                'com5_con': ['com5_con'],\n",
    "                'ph': ['ph'],\n",
    "                'dosage': ['dosage']\n",
    "                }\n",
    "    print('--', raw_data)\n",
    "    df = pd.DataFrame(raw_data,\n",
    "                      columns=['name', 'company', 'com1', 'com1_con',\n",
    "                               'com2', 'com2_con', 'com3', 'com3_con', 'com4', 'com4_con', 'com5',\n",
    "                               'com5_con', 'ph', 'dosage'])\n",
    "    df.to_csv('Result.csv', mode='a', header=False, index=False)\n",
    "\n",
    "except Exception as ex:\n",
    "    print(ex)\n",
    "    \n",
    "def getdata(txt, reg):\n",
    "    com1 = ''\n",
    "    com1_con = ''\n",
    "    com2 = ''\n",
    "    com2_con = ''\n",
    "    matchs = re.findall(reg, txt)\n",
    "    if matchs:\n",
    "        if 'oil' in reg:\n",
    "            com1_con = matchs[0].replace('oil ', '')\n",
    "            ss = txt.split(matchs[0])\n",
    "            ss = ss[0].strip().split(' ')\n",
    "            com1 = ss[-1] + ' oil'\n",
    "        elif 'benz' in reg:\n",
    "            com1_con = matchs[0].split('(')[1]\n",
    "            com1 = matchs[0].split('(')[0]\n",
    "            if len(matchs) > 1:\n",
    "                com2_con = matchs[1].split('(')[1]\n",
    "                com2 = matchs[1].split('(')[0]\n",
    "        else:\n",
    "            com1_con = matchs[0].split('(')[1]\n",
    "            com1 = matchs[0].split('(')[0]\n",
    "        com1_con = com1_con.replace('(', '').replace(')', '')\n",
    "        com2_con = com2_con.replace('(', '').replace(')', '')\n",
    "\n",
    "    if 'benz' in reg:\n",
    "        return com1, com2, com1_con, com2_con\n",
    "    return com1, com1_con\n",
    "\n",
    "\n",
    "oil_reg = 'oil \\(.*?\\)'\n",
    "gly_reg = 'glycer\\w+ \\(.*?\\)'\n",
    "egg_reg = 'egg \\w+ \\(.*?\\)'\n",
    "benz_reg = 'benz\\w+ \\w+ \\(.*?\\)|\\w+ benz\\w+ \\(.*?\\)'\n",
    "\n",
    "url = 'https://dailymed.nlm.nih.gov/dailymed/search.cfm?labeltype=all&query=Cisatracurium&pagesize=200&page=1'\n",
    "browser = webdriver.Chrome(executable_path='C:/Users/Dao.Vu/Desktop/ODP/DrugInfoWebscrape/chromedriver.exe')\n",
    "browser.get(url)\n",
    "browser.implicitly_wait(10)\n",
    "articles = browser.find_elements_by_xpath(\"//div[@class='results']/article\")\n",
    "\n",
    "urls = []\n",
    "for article in articles:\n",
    "    url = article.find_element_by_class_name('drug-info-link').get_attribute('href')\n",
    "    urls.append(url)\n",
    "\n",
    "for url in urls:\n",
    "    try:\n",
    "        browser.get(url)\n",
    "        browser.implicitly_wait(10)\n",
    "        name = ''\n",
    "        name = browser.find_element_by_id('drug-label').text\n",
    "        company = ''\n",
    "        company = browser.find_element_by_xpath(\"//ul[@class='drug-information'][1]/li[2]\").text.replace('Packager: ', '')\n",
    "        \n",
    "        browser.find_element_by_id('anch_dj_109').click()\n",
    "        time.sleep(1)\n",
    "        \n",
    "        li_tags = browser.find_elements_by_xpath(\"//div[@id='drug-information']/div[\"\n",
    "                                                 \"@class='drug-label-sections']/ul/li\")\n",
    "        dosage = ''\n",
    "        com1 = ''\n",
    "        com1_con = ''\n",
    "        com2 = ''\n",
    "        com2_con = ''\n",
    "        com3 = ''\n",
    "        com3_con = ''\n",
    "        com4 = ''\n",
    "        com4_con = ''\n",
    "        com5 = ''\n",
    "        com5_con = ''\n",
    "        ph = ''\n",
    "        for li_tag in li_tags:\n",
    "            txt = li_tag.text\n",
    "            if 'DESCRIPTION' in txt:\n",
    "                com1, com1_con = getdata(txt, oil_reg)\n",
    "                com2, com2_con = getdata(txt, gly_reg)\n",
    "                com3, com3_con = getdata(txt, egg_reg)\n",
    "                com4, com5, com4_con, com5_con = getdata(txt, benz_reg)\n",
    "                ph = txt.split('a pH of ')[-1]\n",
    "                break\n",
    "        for li_tag in li_tags:\n",
    "            txt = li_tag.text\n",
    "            if 'SUMMARY OF DOSAGE GUIDELINES' in txt:\n",
    "                tables = li_tag.find_elements_by_tag_name('table')\n",
    "                for table in tables:\n",
    "                    trs = table.find_elements_by_tag_name('tr')\n",
    "                    for tr in trs:\n",
    "                        if 'Induction of General Anesthesia' in tr.text:\n",
    "                            tds = tr.find_elements_by_tag_name('td')\n",
    "                            td1_txt = tds[0].text\n",
    "                            td2_txt = tds[1].text\n",
    "                            if 'Induction of General Anesthesia' in td1_txt:\n",
    "                                dosage = td2_txt\n",
    "                                break\n",
    "        try:\n",
    "            raw_data = {'name': [name],\n",
    "                        'company': [company],\n",
    "                        'com1': [com1],\n",
    "                        'com1_con': [com1_con],\n",
    "                        'com2': [com2],\n",
    "                        'com2_con': [com2_con],\n",
    "                        'com3': [com3],\n",
    "                        'com3_con': [com3_con],\n",
    "                        'com4': [com4],\n",
    "                        'com4_con': [com4_con],\n",
    "                        'com5': [com5],\n",
    "                        'com5_con': [com5_con],\n",
    "                        'ph': [ph],\n",
    "                        'dosage': [dosage]\n",
    "                            }\n",
    "            print('--', raw_data)\n",
    "            df = pd.DataFrame(raw_data,\n",
    "                              columns=['name', 'company', 'com1', 'com1_con',\n",
    "                                       'com2', 'com2_con', 'com3', 'com3_con', 'com4', 'com4_con', 'com5',\n",
    "                                       'com5_con', 'ph', 'dosage'])\n",
    "            df.to_csv('Result.csv', mode='a', header=False, index=False)\n",
    "\n",
    "        except Exception as ex:\n",
    "            print(ex)\n",
    "    except Exception as ex:\n",
    "        print(ex)\n",
    "\n",
    "browser.quit()\n"
   ]
  },
  {
   "cell_type": "code",
   "execution_count": 5,
   "metadata": {},
   "outputs": [
    {
     "ename": "TypeError",
     "evalue": "dirname() missing 1 required positional argument: 'p'",
     "output_type": "error",
     "traceback": [
      "\u001b[0;31m---------------------------------------------------------------------------\u001b[0m",
      "\u001b[0;31mTypeError\u001b[0m                                 Traceback (most recent call last)",
      "\u001b[0;32m<ipython-input-5-74caac364bd2>\u001b[0m in \u001b[0;36m<module>\u001b[0;34m\u001b[0m\n\u001b[1;32m      1\u001b[0m \u001b[0;32mimport\u001b[0m \u001b[0mos\u001b[0m\u001b[0;34m\u001b[0m\u001b[0;34m\u001b[0m\u001b[0m\n\u001b[1;32m      2\u001b[0m \u001b[0;32mimport\u001b[0m \u001b[0msys\u001b[0m\u001b[0;34m\u001b[0m\u001b[0;34m\u001b[0m\u001b[0m\n\u001b[0;32m----> 3\u001b[0;31m \u001b[0mos\u001b[0m\u001b[0;34m.\u001b[0m\u001b[0mpath\u001b[0m\u001b[0;34m.\u001b[0m\u001b[0mdirname\u001b[0m\u001b[0;34m(\u001b[0m\u001b[0;34m)\u001b[0m\u001b[0;34m\u001b[0m\u001b[0;34m\u001b[0m\u001b[0m\n\u001b[0m",
      "\u001b[0;31mTypeError\u001b[0m: dirname() missing 1 required positional argument: 'p'"
     ]
    }
   ],
   "source": [
    "import os\n",
    "import sys\n",
    "os.path.dirname(DailyMedScrape.ip)\n"
   ]
  },
  {
   "cell_type": "code",
   "execution_count": null,
   "metadata": {},
   "outputs": [],
   "source": []
  }
 ],
 "metadata": {
  "kernelspec": {
   "display_name": "Python 3",
   "language": "python",
   "name": "python3"
  },
  "language_info": {
   "codemirror_mode": {
    "name": "ipython",
    "version": 3
   },
   "file_extension": ".py",
   "mimetype": "text/x-python",
   "name": "python",
   "nbconvert_exporter": "python",
   "pygments_lexer": "ipython3",
   "version": "3.8.3"
  }
 },
 "nbformat": 4,
 "nbformat_minor": 4
}
